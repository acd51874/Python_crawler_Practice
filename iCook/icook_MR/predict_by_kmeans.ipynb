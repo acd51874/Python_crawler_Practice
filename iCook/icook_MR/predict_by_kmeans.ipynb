{
 "cells": [
  {
   "cell_type": "code",
   "execution_count": null,
   "metadata": {},
   "outputs": [],
   "source": [
    "'''\n",
    "\n",
    "Load the model\n",
    "\n",
    "'''\n",
    "import pickle\n",
    "\n",
    "model_name = 'kmeans_cluster_10.pkl'\n",
    "with open(model_name, 'rb') as f:\n",
    "    clf = pickle.load(f)\n",
    "\n",
    "clf"
   ]
  }
 ],
 "metadata": {
  "kernelspec": {
   "display_name": "Python 3",
   "language": "python",
   "name": "python3"
  },
  "language_info": {
   "codemirror_mode": {
    "name": "ipython",
    "version": 3
   },
   "file_extension": ".py",
   "mimetype": "text/x-python",
   "name": "python",
   "nbconvert_exporter": "python",
   "pygments_lexer": "ipython3",
   "version": "3.6.0"
  }
 },
 "nbformat": 4,
 "nbformat_minor": 2
}
